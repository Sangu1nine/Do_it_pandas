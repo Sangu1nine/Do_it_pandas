


import warnings
warnings.filterwarnings('ignore')





import pandas as pd


data = pd.read_csv('202412_202412_주민등록인구및세대현황_월간.csv',encoding = 'cp949')


data.head()


data.info()





data['행정구역'] = data['행정구역'].str.split('(').str.get(0).str.strip()


data.head()





data.columns = ['행정구역', '총인구수', '세대수', '세대당인구', '남자', '여자', '남여비율']


data.info()





data.drop(['남여비율'],axis='columns',inplace=True)


data.info()





# data['행정구역'].str.replace(' ','').split('시')

data['시'] = data['행정구역'].str.split().str.get(0)
data['구'] = data['행정구역'].str.split().str.get(1)
data['동'] = data['행정구역'].str.split().str.get(2)
busan = data[data['시']=='부산광역시']


busan.head()





busan = busan.dropna()
busan.reset_index(inplace = True, drop = True) #drop = True를 안해주면 
busan.head()





busan['총인구수'] = busan['총인구수'].str.replace(',','').astype('int')
busan['남자'] = busan['남자'].str.replace(',','').astype('int')
busan['여자'] = busan['여자'].str.replace(',','').astype('int')


busan.head()





import matplotlib.pyplot as plt
import seaborn as sns


plt.rc('font', family = 'D2Coding')


bugan_g = busan.groupby('구')['총인구수'].sum().sort_values(ascending = False).head()
busan_g = bugan_g.reset_index()
plt.figure(figsize = (10,3))
sns.barplot(data = busan_g, x = '구', y = '총인구수')
busan_g





bugan_d = busan.groupby('동')['총인구수'].sum().sort_values(ascending = False).head()
busan_d = bugan_d.reset_index()
plt.figure(figsize = (10,3))
sns.barplot(data = busan_d, x = '총인구수', y = '동')





import json

jsonfile = open('HangJeongDong_ver20241001.geojson', 'r', encoding = 'utf-8').read()
jsonData = json.loads(jsonfile)

jsonData_busan = {'type': 'FeatureCollection'}

jsonData_pick = []
jsonData_dong = []

for idx in jsonData['features'] :
    if idx['properties']['sidonm'] == '부산광역시' : 
        dong = idx['properties']['adm_nm'].split()[-1].strip()
        if dong == '가야제1동' :
            dong = '가야1동'
        idx['id'] = dong
        jsonData_dong.append(dong)
        jsonData_pick.append(idx)

jsonData_busan['features'] = jsonData_pick
jsonData_busan


!pip install folium


import folium

map = folium.Map(location = [35.230194, 129.074721], zoom_start = 10)
folium.Choropleth(geo_data = jsonData_busan,
                  data = busan,
                  columns = ['동', '총인구수'],
                  key_on = 'feature.id',
                  fill_color = 'YlGn',
                  fill_opacity = 0.4,
                  line_opacity = 0.3,
                  legend_name = '부산 인구').add_to(map)

map









































df_dong = sorted(busan['동'].to_list())
len(df_dong)


json_dong = sorted(jsonData_dong)
len(jsonData_dong)


for i, item in enumerate(zip(df_dong,json_dong)) :
    if item[0] != item[1]:
        print(i, item)


busan['동'] = busan['동'].str.replace("제", '')


busan['동'] = busan['동'].str.replace('거1동','거제1동')
busan['동'] = busan['동'].str.replace('거2동','거제2동')
busan['동'] = busan['동'].str.replace('거3동','거제3동')
busan['동'] = busan['동'].str.replace('거4동','거제4동')
busan['동'] = busan['동'].str.strip()



df_dong = sorted(busan['동'].to_list())
json_dong = sorted(jsonData_dong)
len(df_dong), len(json_dong)



