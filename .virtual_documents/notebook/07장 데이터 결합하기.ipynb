





import pandas as pd

df1 = pd.read_csv('../data/concat_1.csv')
df2 = pd.read_csv('../data/concat_2.csv')
df3 = pd.read_csv('../data/concat_3.csv')
print(df1)


print(df2)


print(df3)





print(df1.index)


print(df1.columns)


print(df1.values)








row_concat = pd.concat([df1, df2, df3])
print(row_concat)


print(row_concat.iloc[3, :])


new_row_series = pd.Series(['n1', 'n2', 'n3', 'n4'])
print(new_row_series)


print(pd.concat([df1, new_row_series]))


new_row_df = pd.DataFrame(
    data=[["n1", "n2", "n3", "n4"]],
    columns=["A", "B", "C", "D"],
)
print(new_row_df)


print(pd.concat([df1, new_row_df]))





row_concat_i = pd.concat([df1, df2, df3], ignore_index=True)
print(row_concat_i)








col_concat = pd.concat([df1, df2, df3], axis="columns")
print(col_concat)


print(col_concat['A'])


col_concat['new_col_list'] = ['n1', 'n2', 'n3', 'n4']
print(col_concat)


col_concat['new_col_series'] = pd.Series(['n1', 'n2', 'n3', 'n4'])
print(col_concat)


print(pd.concat([df1, df2, df3], axis="columns", ignore_index=True))








df1.columns = ['A', 'B', 'C', 'D']
df2.columns = ['E', 'F', 'G', 'H']
df3.columns = ['A', 'C', 'F', 'H']
print(df1)


print(df2)
print(df3)


row_concat = pd.concat([df1, df2, df3])
print(row_concat)


print(pd.concat([df1, df2, df3], join='inner'))


print(pd.concat([df1,df3], ignore_index=False, join='inner'))





df1.index = [0, 1, 2, 3]
df2.index = [4, 5, 6, 7]
df3.index = [0, 2, 5, 7]
print(df1)


print(df2)
print(df3)


col_concat = pd.concat([df1, df2, df3], axis="columns")
print(col_concat)


print(pd.concat([df1, df3], axis="columns", join='inner'))








from pathlib import Path

billboard_data_files = (
    Path(".")
    .glob("../data/billboard-by_week/billboard-*.csv")
)

billboard_data_files = sorted(list(billboard_data_files))
print(billboard_data_files)


billboard_data_files = list(billboard_data_files)


billboard01 = pd.read_csv(billboard_data_files[0])
billboard02 = pd.read_csv(billboard_data_files[1])
billboard03 = pd.read_csv(billboard_data_files[2])
print(billboard01)


# 각 데이터프레임의 shape 확인
print(billboard01.shape)
print(billboard02.shape)
print(billboard03.shape)


billboard = pd.concat([billboard01, billboard02, billboard03])
# 연결한 데이터프레임의 shape 확인
print(billboard.shape)


assert (
    billboard01.shape[0]
    + billboard02.shape[0]
    + billboard03.shape[0]
    == billboard.shape[0]
)





from pathlib import Path
billboard_data_files = (
    Path(".")
    .glob("../data/billboard-by_week/billboard-*.csv")
)

# 빈 리스트를 생성합니다.
list_billboard_df = []

# CSV 파일명 리스트를 순회합니다.
for csv_filename in billboard_data_files:
    # 필요하다면 아래 코드를 주석 해제하여 각 CSV 파일명을 출력하세요.
    # print(csv_filename)
    
    # CSV 파일을 데이터프레임으로 불러옵니다.
    df = pd.read_csv(csv_filename)
    
    # 데이터프레임을 리스트에 저장합니다.
    list_billboard_df.append(df)

# 데이터프레임의 개수를 출력합니다.
print(len(list_billboard_df))


print(type(list_billboard_df[0]))


print(list_billboard_df[0])


billboard_loop_concat = pd.concat(list_billboard_df)
print(billboard_loop_concat.shape)





billboard_data_files = (
    Path(".")
    .glob("../data/billboard-by_week/billboard-*.csv")
)

list_billboard_df = []
for csv_filename in billboard_data_files:
    df = pd.read_csv(csv_filename)
    list_billboard_df.append(df)

billboard_data_files = (
    Path(".")
    .glob("../data/billboard-by_week/billboard-*.csv")
)

billboard_dfs = [pd.read_csv(data) for data in billboard_data_files]


print(type(billboard_dfs))


print(len(billboard_dfs))


billboard_concat_comp = pd.concat(billboard_dfs)
print(billboard_concat_comp)





person = pd.read_csv('../data/survey_person.csv')
site = pd.read_csv('../data/survey_site.csv')
survey = pd.read_csv('../data/survey_survey.csv')
visited = pd.read_csv('../data/survey_visited.csv')
print(person)


print(site)


print(visited)


print(survey)





visited_subset = visited.loc[[0, 2, 6], :]
print(visited_subset)


print(visited_subset["site"].value_counts())


o2o_merge = site.merge(visited_subset, left_on="name", right_on="site")
print(o2o_merge)





print(visited["site"].value_counts())


m2o_merge = site.merge(visited, left_on='name', right_on='site')
print(m2o_merge)





ps = person.merge(survey, left_on='ident', right_on='person')
vs = visited.merge(survey, left_on='ident', right_on='taken')
print(ps)


print(vs)


print(ps["quant"].value_counts())


print(vs["quant"].value_counts())


ps_vs = ps.merge(
    vs,
    left_on=["quant"],
    right_on=["quant"],
)
ps_vs


print(ps_vs.loc[0, :])





print(ps.shape)


print(vs.shape)


print(ps_vs.shape)


assert vs.shape[0] == 21


# assert ps_vs.shape[0] <= vs.shape[0]  # 오류








import pandas as pd

billboard = pd.read_csv('../data/billboard.csv')

billboard_long = billboard.melt(
    id_vars=["year", "artist", "track", "time", "date.entered"],
    var_name="week",
    value_name="rating",
)

print(billboard_long)


print(billboard_long.loc[billboard_long.track == 'Loser'])


billboard_songs = billboard_long[
    ["year", "artist", "track", "time", "date.entered"]
]
print(billboard_songs.shape)


billboard_songs = billboard_songs.drop_duplicates()
print(billboard_songs.shape)


billboard_songs['id'] = billboard_songs.index + 1
print(billboard_songs)


billboard_ratings = billboard_long.merge(
    billboard_songs, on=["year", "artist", "track", "time", "date.entered"]
)
print(billboard_ratings.shape)


print(billboard_ratings)


billboard_ratings = billboard_ratings[
    ["id", "week", "rating"]
]
print(billboard_ratings)



