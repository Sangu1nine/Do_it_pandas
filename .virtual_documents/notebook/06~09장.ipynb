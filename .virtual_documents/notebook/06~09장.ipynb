def my_sq(x):
    return x ** 2
my_sq(2)


def avg_2(x,y) :
    return (x+y)/2
avg_2(4,7)


import pandas as pd


df = pd.DataFrame({"a": [10, 20, 30], 
                   "b": [20, 30, 40]})

df


df.apply(avg_2, y=2)


df1 = pd.read_csv('../data/concat_1.csv')
df2 = pd.read_csv('../data/concat_2.csv')
df3 = pd.read_csv('../data/concat_3.csv')


from pathlib import Path

billboard_data_files = (
    Path(".")
    .glob("../data/billboard_by_week/billboard-*.csv")
)

billboard_data_files = sorted(list(billboard_data_files))
billboard_data_files


billboard_data_files = list(billboard_data_files)



billboard01 = pd.read_csv(billboard_data_files[0])
billboard02 = pd.read_csv(billboard_data_files[1])
billboard03 = pd.read_csv(billboard_data_files[2])
billboard01


billboard = pd.concat([billboard01,billboard02,billboard03])
billboard.shape


from pathlib import Path

billboard_data_files = (
    Path('.')
    .glob("../data/billboard_by_week/billboard-*.csv")
)

list_billboard_df = []

for csv_filename in billboard_data_files :
    df = pd.read_csv(csv_filename)
    list_billboard_df.append(df)

len(list_billboard_df)


type(list_billboard_df[0])


list_billboard_df[0]


billboard_loop_concat = pd.concat(list_billboard_df)
billboard_loop_concat.shape


person = pd.read_csv('../data/survey_person.csv')
site = pd.read_csv('../data/survey_site.csv')
survey = pd.read_csv('../data/survey_survey.csv')
visited = pd.read_csv('../data/survey_visited.csv')
person


site


visited


survey


visited_subset = visited.loc[[0,2,6],:]
visited_subset


o2o_merge = site.merge(visited_subset, left_on = 'name', right_on = 'site')
o2o_merge


visited['site'].value_counts()


m2o_merge = site.merge(visited,  left_on = 'name', right_on = 'site')
m2o_merge


ps = person.merge(survey, left_on = 'ident', right_on = 'person')
ps


vs = visited.merge(survey, left_on = 'ident', right_on = 'taken')
vs


ps['quant'].value_counts()


vs['quant'].value_counts()


ps_vs = ps.merge(
    vs,
    left_on = 'quant',
    right_on = 'quant',
)

ps_vs


ps.shape


vs.shape


ps_vs.shape


df = vs.groupby('site')
df


import numpy as np


from numpy import NaN, NAN, nan


NaN == NaN


pd.isnull(np.nan)


pd.isnull('')


pd.isna(nan)


visited_file = '../data/survey_visited.csv'


pd.read_csv(visited_file, keep_default_na=False)


ebola = pd.read_csv('../data/country_timeseries.csv')


ebola.shape


ebola.count()


ebola.isnull()


ebola.isnull().sum()





num_rows = ebola.shape[0]
num_missing = num_rows - ebola.count()
num_missing


ebola.sample()


ebola.fillna(0).iloc[:,0:5


ebola_long = ebola.melt(id_vars=['Date','Day'])
ebola_long


variable_split = ebola_long.variable.str.split('_')
variable_split


ebola_long[['status','country']] = ebola_long.variable.str.split('_',expand = True)


ebola_long


ebola_long.isnull().sum()


cnts = ebola_long[ebola_long['variable'] == 'Cases_Guinea']['value'].value_counts(dropna= False)
cnts


ebola_fill_0 = ebola_long.fillna(0)
ebola_fill_0


pop = ebola_fill_0.groupby('variable')['value'].mean()
pop


survival_rate = ebola_fill_0.groupby(['country', 'status'])['value'].mean()
survival_rate


ebola_fill_0.loc[0]


last_day = ebola_fill_0[ebola_fill_0['Date'] == '1/5/2015']


last_day


last_day.groupby









