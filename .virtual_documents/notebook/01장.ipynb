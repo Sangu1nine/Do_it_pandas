print('hi')


print()


# 주피터 노트북에서 셸 명령어를 사용할 수 있도록 함.
!pip list | findstr pan


# % = line 매직 명령어
# %% = 셀 매직 명령어
%pip list



