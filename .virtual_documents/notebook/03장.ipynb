import pandas as pd


import numpy as np


sci = pd.read_csv('../data/scientists.csv')


sci


sci.values


sci.loc[sci['Age'] > sci['Age'].mean()]


first_half = sci[:4]
sec_half = sci[4:]
print(first_half)
print(sec_half)


df1 = df2 = pd.DataFrame(data = [[1,2,3],[4,5,6],[7,8,9]])

df_added = df1.add(df2)


df_added


sci.dtypes


born_datetime = pd.to_datetime(sci['Born'], format = '%Y-%m-%d')
born_datetime


died_datetime = pd.to_datetime(sci['Died'], format = '%Y-%m-%d')

sci['born_dt'], sci['died_dt'] = (born_datetime, died_datetime)


sci.head()


sci['Age'].sample(frac = 1, random_state = 42) # frac : 0~1로 몇 퍼센트 뽑을건지 비율


sci['Age'].sample(frac = 1, random_state = 42).values


sci['Age'] = sci['Age'].sample(frac = 1, random_state = 42)
sci['Age']


# 분명 섞었는데 섞이지 않은 이유 : 인덱스는 그대로 있는데, 판다스에서 인덱스를 기준으로 자동 정렬해주었기 때문


sci['Age'] = sci['Age'].sample(frac = 1, random_state = 42).values
sci['Age']


# 제대로 섞인 것을 볼 수 있다.


sci['age_days'] = (sci['died_dt'] - sci['born_dt'])
sci


sci['age_years'] = (sci['age_days'].dt.days / 365).apply(np.floor)
# .dt : pandas에서 datetime 값에 접근하기 위한 함수. 
# Series.apply() : 각 원소에 함수 적용
# DataFrame.apply() : 행 또는 열 단위로 함수 적용 (axis 설정)
# np.floor() : numpy함수로, 소수점 아래로 버림
sci


sci = sci.assign(
    age_days_assign=sci["died_dt"] - sci["born_dt"],
    # age_year_assign=lambda df_: df_["age_days_assign"].astype("timedelta64[Y]"),  # pandas 2.0.3 오류
    age_year_assign=lambda df_: (df_["age_days_assign"].dt.days / 365).apply(np.floor), 
)
print(sci)


scientists_dropped = sci.drop(['Age'], axis="columns")
sci


scientists_dropped


sci.to_pickle('sci.pickle')


pd.read_pickle('sci.pickle')


sci.to_json('sci.json')















