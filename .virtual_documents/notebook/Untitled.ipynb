def my_sq(x):
    return x ** 2
my_sq(2)


def avg_2(x,y) :
    return (x+y)/2
avg_2(4,7)


import pandas as pd


df = pd.DataFrame({"a": [10, 20, 30], 
                   "b": [20, 30, 40]})

df






