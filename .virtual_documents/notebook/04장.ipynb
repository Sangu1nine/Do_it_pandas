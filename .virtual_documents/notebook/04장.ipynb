import seaborn as sns

anscombe = sns.load_dataset("anscombe")
print(anscombe)


import matplotlib.pyplot as plt


dataset_1 = anscombe[anscombe['dataset'] == 'I']
plt.plot(dataset_1['x'], dataset_1['y'])
plt.show()


dataset_1 = anscombe[anscombe['dataset'] == 'I']
plt.plot(dataset_1['x'], dataset_1['y'],'o')
plt.show()


dataset_2 = anscombe[anscombe['dataset'] == 'II']
dataset_3 = anscombe[anscombe['dataset'] == 'III']
dataset_4 = anscombe[anscombe['dataset'] == 'IV']


fig = plt.figure()
axes1 = fig.add_subplot(2,2,1)
axes2 = fig.add_subplot(2,2,2)
axes3 = fig.add_subplot(2,2,3)
axes4 = fig.add_subplot(2,2,4)


fig = plt.figure()
axes1 = fig.add_subplot(2,2,1)
axes2 = fig.add_subplot(2,2,2)
axes3 = fig.add_subplot(2,2,3)
axes4 = fig.add_subplot(2,2,4)

axes1.plot(dataset_1['x'], dataset_1['y'],'o')
axes2.plot(dataset_2['x'], dataset_2['y'],'o')
axes3.plot(dataset_3['x'], dataset_3['y'],'o')
axes4.plot(dataset_4['x'], dataset_4['y'],'o')


fig = plt.figure()
axes1 = fig.add_subplot(2,2,1)
axes2 = fig.add_subplot(2,2,2)
axes3 = fig.add_subplot(2,2,3)
axes4 = fig.add_subplot(2,2,4)

axes1.plot(dataset_1['x'], dataset_1['y'],'o')
axes2.plot(dataset_2['x'], dataset_2['y'],'o')
axes3.plot(dataset_3['x'], dataset_3['y'],'o')
axes4.plot(dataset_4['x'], dataset_4['y'],'o')

axes1.set_title('dataset_1')
axes2.set_title('dataset_2')
axes3.set_title('dataset_3')
axes4.set_title('dataset_4')

fig.suptitle("Anscombe Data")
fig.set_tight_layout(True)

plt.show()


tips = sns.load_dataset('tips')
tips


fig = plt.figure()

axes1 = fig.add_subplot(1,1,1)


tips = sns.load_dataset('tips')
fig = plt.figure()

axes1 = fig.add_subplot(1,1,1)

axes1.hist(data = tips, x = 'total_bill', bins = 100)

axes1.set_title('Histogram of Total Bill')
axes1.set_xlabel('Total Bill')
axes1.set_ylabel('Frequency')

plt.show()


import matplotlib.pyplot as plt

plt.rc('font', family = 'Malgun Gothic')


scatter_plot = plt.figure()

axes1 = scatter_plot.add_subplot(1,1,1)

axes1.scatter(tips['total_bill'], tips['tip'])
axes1.set_title('Scatterplot of Total Bill vs Tip')
axes1.set_xlabel('Total Bill')
axes1.set_ylabel('Tip')

plt.show()


boxplot = plt.figure()
axes1 = boxplot.add_subplot(1,1,1)

axes1.boxplot(
    x = [
        tips[tips['sex'] == 'Female']['tip'],
        tips[tips['sex'] == 'Male']['tip']
    ],
    tick_labels = ['Female', 'Male']
)
axes1.set_title('Boxplot of Tips by Sex')
axes1.set_xlabel('Sex')
axes1.set_ylabel('Tip')

plt.show()


import matplotlib
matplotlib.matplotlib_fname()


colors = {"Female" : "#f1a340", "Male" : "#998ec3"}

scatter_plot = plt.figure()
axes1 = scatter_plot.add_subplot(1,1,1)

axes1.scatter(data = tips,
              x = 'total_bill',
              y = 'tip',
              s = tips['size']**2*20,
              c = tips['sex'].map(colors),
              alpha = 0.5)
axes1.set_title('Colored  by Sex and Sized by Size')
axes1.set_xlabel('Total Bill')
axes1.set_ylabel('Tip')
plt.legend()
scatter_plot.suptitle('Total Bill vs Tip')

plt.show()


sns.set_context('paper')


hist, ax = plt.subplots()

sns.histplot(data = tips, x = 'total_bill', ax = ax)
ax.set_title('Total Bill Histogram')

plt.show()


dem, ax = plt.subplots()

sns.kdeplot(data = tips, x = 'total_bill', ax  = ax)

ax.set_title('Total Bill Density')
ax.set_xlabel('Total Bill')
ax.set_ylabel('Unit Probability')

plt.show()


rug, ax = plt.subplots()

sns.rugplot(data = tips, x = 'total_bill', ax = ax)
sns.histplot(data = tips, x = 'total_bill', ax = ax)

ax.set_title('Rug Plot and Histogram of Total Bill')

plt.show()


fig  = sns.displot(data = tips, x = 'total_bill', kde = True, rug = True)

fig.set_axis_labels(x_var = 'Total Bill', y_var = 'Count')
fig.figure.suptitle('Distribution of Total Bill')

plt.show()


count, ax = plt.subplots()

sns.countplot(data = tips, x = 'day', palette = 'viridis',hue = 'day',legend = False,  ax = ax)

ax.set_title('Count of days')
ax.set_xlabel('Day of the Week')
ax.set_ylabel('Frequency')

plt.show()


scatter, ax = plt.subplots()

sns.scatterplot(data = tips, x = 'total_bill', y = 'tip', ax = ax)

ax.set_title('Scatter Plot of Total Bill and Tip')
ax.set_xlabel('Total Bill')
ax.set_ylabel('Tip')
plt.show()


reg, ax = plt.subplots()

sns.regplot(data = tips, x = 'total_bill', y = 'tip' , ax = ax)

ax.set_title('Regression Plot of Total Bill and Tip')
ax.set_xlabel('Total Bill')
ax.set_ylabel('Tip')
plt.show()


joint = sns.jointplot(data = tips, x = 'total_bill', y = 'tip')
joint.set_axis_labels(xlabel = 'Total Bill', ylabel = 'Tip')

joint.figure.suptitle('Joint Plot of Total Bill and Tip', y = 1.03)

plt.show()


hexbin = sns.jointplot(data = tips, x = 'total_bill', y = 'tip', kind = 'hex')
hexbin.set_axis_labels(xlabel = 'Total Bill', ylabel = 'Tip')

hexbin.figure.suptitle('Joint Plot of Total Bill and Tip', y = 1.03)

plt.show()


iris = sns.load_dataset('iris')
iris.info()


pair_grid = sns.PairGrid(iris)
pair_grid = pair_grid.map_upper(sns.regplot)



