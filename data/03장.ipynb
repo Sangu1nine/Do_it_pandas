{
 "cells": [
  {
   "cell_type": "code",
   "execution_count": 2,
   "id": "516c8e0c-f15d-4db8-a512-25f66cc3c520",
   "metadata": {
    "editable": true,
    "slideshow": {
     "slide_type": ""
    },
    "tags": []
   },
   "outputs": [],
   "source": [
    "import pandas as pd"
   ]
  },
  {
   "cell_type": "code",
   "execution_count": 3,
   "id": "5f74f387-454b-4019-bf2f-ba14f9b7a51c",
   "metadata": {},
   "outputs": [
    {
     "name": "stdout",
     "output_type": "stream",
     "text": [
      "0    banana\n",
      "1        42\n",
      "dtype: object\n"
     ]
    }
   ],
   "source": [
    "s = pd.Series(['banana',42])\n",
    "print(s)"
   ]
  },
  {
   "cell_type": "code",
   "execution_count": 4,
   "id": "d2cffa3c-6666-4210-80db-7cd7f1850ba7",
   "metadata": {},
   "outputs": [
    {
     "name": "stdout",
     "output_type": "stream",
     "text": [
      "Person         Wes McKinney\n",
      "Who       Creator of Pandas\n",
      "dtype: object\n"
     ]
    }
   ],
   "source": [
    "s = pd.Series(data = ['Wes McKinney', 'Creator of Pandas'], index = ['Person', 'Who'])\n",
    "print(s)"
   ]
  },
  {
   "cell_type": "code",
   "execution_count": 12,
   "id": "6b3271a1-db91-4356-b009-0c5eff0e60b9",
   "metadata": {
    "editable": true,
    "slideshow": {
     "slide_type": ""
    },
    "tags": []
   },
   "outputs": [
    {
     "name": "stdout",
     "output_type": "stream",
     "text": [
      "                     Occupation        Born        Died  Age\n",
      "Rosaline Franklin       Chemist  1920-07-25  1958-04-16   37\n",
      "William Gosset     Statistician  1876-06-13  1937-10-16   61\n"
     ]
    }
   ],
   "source": [
    "scientists = pd.DataFrame(\n",
    "    data={\n",
    "        \"Occupation\": [\"Chemist\", \"Statistician\"],\n",
    "        \"Born\": [\"1920-07-25\", \"1876-06-13\"],\n",
    "        \"Died\": [\"1958-04-16\", \"1937-10-16\"],\n",
    "        \"Age\": [37, 61],\n",
    "    },\n",
    "    index=[\"Rosaline Franklin\", \"William Gosset\"],\n",
    "    columns=[\"Occupation\", \"Born\", \"Died\", \"Age\"],\n",
    ")\n",
    "\n",
    "print(scientists)"
   ]
  },
  {
   "cell_type": "code",
   "execution_count": 6,
   "id": "a097efbc-5576-4728-8277-51b30aeaa264",
   "metadata": {},
   "outputs": [
    {
     "name": "stdout",
     "output_type": "stream",
     "text": [
      "                     Occupation        Died        Born  Age\n",
      "Rosaline Franklin       Chemist  1958-04-16  1920-07-25   37\n",
      "William Gosset     Statistician  1937-10-16  1876-06-13   61\n"
     ]
    }
   ],
   "source": [
    "scientists = pd.DataFrame(\n",
    "    data={\n",
    "        \"Occupation\": [\"Chemist\", \"Statistician\"],\n",
    "        \"Born\": [\"1920-07-25\", \"1876-06-13\"],\n",
    "        \"Died\": [\"1958-04-16\", \"1937-10-16\"],\n",
    "        \"Age\": [37, 61],\n",
    "    },\n",
    "    index=[\"Rosaline Franklin\", \"William Gosset\"],\n",
    "    columns=[\"Occupation\", \"Died\", \"Born\", \"Age\"],\n",
    ")\n",
    "\n",
    "print(scientists)"
   ]
  },
  {
   "cell_type": "code",
   "execution_count": 7,
   "id": "58a7b812-66fc-492f-8366-c8ca8dde691b",
   "metadata": {},
   "outputs": [
    {
     "name": "stdout",
     "output_type": "stream",
     "text": [
      "                     Occupation        Born\n",
      "Rosaline Franklin       Chemist  1920-07-25\n",
      "William Gosset     Statistician  1876-06-13\n"
     ]
    }
   ],
   "source": [
    "scientists = pd.DataFrame(\n",
    "    data={\n",
    "        \"Occupation\": [\"Chemist\", \"Statistician\"],\n",
    "        \"Born\": [\"1920-07-25\", \"1876-06-13\"],\n",
    "        \"Died\": [\"1958-04-16\", \"1937-10-16\"],\n",
    "        \"Age\": [37, 61],\n",
    "    },\n",
    "    index=[\"Rosaline Franklin\", \"William Gosset\"],\n",
    "    columns=[\"Occupation\", \"Born\"],\n",
    ")\n",
    "\n",
    "print(scientists)"
   ]
  },
  {
   "cell_type": "code",
   "execution_count": 9,
   "id": "4c31fef0-10b8-4921-a78c-0c1f900c2d5f",
   "metadata": {},
   "outputs": [
    {
     "data": {
      "text/plain": [
       "Index(['Rosaline Franklin', 'William Gosset'], dtype='object')"
      ]
     },
     "execution_count": 9,
     "metadata": {},
     "output_type": "execute_result"
    }
   ],
   "source": [
    "scientists.index"
   ]
  },
  {
   "cell_type": "code",
   "execution_count": 10,
   "id": "4f0eecdb-e450-4b93-b54f-97c02f7f6ca6",
   "metadata": {},
   "outputs": [
    {
     "data": {
      "text/plain": [
       "array([['Chemist', '1920-07-25'],\n",
       "       ['Statistician', '1876-06-13']], dtype=object)"
      ]
     },
     "execution_count": 10,
     "metadata": {},
     "output_type": "execute_result"
    }
   ],
   "source": [
    "scientists.values"
   ]
  },
  {
   "cell_type": "code",
   "execution_count": 13,
   "id": "990fec99-ffb3-4479-b251-bfdbeda55311",
   "metadata": {},
   "outputs": [
    {
     "data": {
      "text/plain": [
       "49.0"
      ]
     },
     "execution_count": 13,
     "metadata": {},
     "output_type": "execute_result"
    }
   ],
   "source": [
    "scientists['Age'].mean()"
   ]
  },
  {
   "cell_type": "code",
   "execution_count": 14,
   "id": "e8a74792-4609-4146-b3e5-c451c7ac82d2",
   "metadata": {},
   "outputs": [
    {
     "data": {
      "text/plain": [
       "Rosaline Franklin    37\n",
       "William Gosset       61\n",
       "Name: Age, dtype: int64"
      ]
     },
     "execution_count": 14,
     "metadata": {},
     "output_type": "execute_result"
    }
   ],
   "source": [
    "scientists['Age'].sort_values()"
   ]
  },
  {
   "cell_type": "code",
   "execution_count": 15,
   "id": "56cecfbe-5fe4-4a96-8b8e-f24030a4d772",
   "metadata": {},
   "outputs": [
    {
     "data": {
      "text/plain": [
       "count     2.000000\n",
       "mean     49.000000\n",
       "std      16.970563\n",
       "min      37.000000\n",
       "25%      43.000000\n",
       "50%      49.000000\n",
       "75%      55.000000\n",
       "max      61.000000\n",
       "Name: Age, dtype: float64"
      ]
     },
     "execution_count": 15,
     "metadata": {},
     "output_type": "execute_result"
    }
   ],
   "source": [
    "scientists['Age'].describe()"
   ]
  },
  {
   "cell_type": "code",
   "execution_count": 16,
   "id": "46ebc6d6-3c77-4e37-b734-0b4bc02d5e25",
   "metadata": {},
   "outputs": [],
   "source": [
    "scientists = pd.read_csv('../data/scientists.csv')"
   ]
  },
  {
   "cell_type": "code",
   "execution_count": 17,
   "id": "c55e143d-8c39-443b-a803-f44b1c10166d",
   "metadata": {},
   "outputs": [
    {
     "data": {
      "text/plain": [
       "count     8.000000\n",
       "mean     59.125000\n",
       "std      18.325918\n",
       "min      37.000000\n",
       "25%      44.000000\n",
       "50%      58.500000\n",
       "75%      68.750000\n",
       "max      90.000000\n",
       "Name: Age, dtype: float64"
      ]
     },
     "execution_count": 17,
     "metadata": {},
     "output_type": "execute_result"
    }
   ],
   "source": [
    "scientists['Age'].describe()"
   ]
  },
  {
   "cell_type": "code",
   "execution_count": 19,
   "id": "7a01c43d-8027-4902-89f5-203d1a7d4575",
   "metadata": {},
   "outputs": [],
   "source": [
    "ages = scientists['Age']"
   ]
  },
  {
   "cell_type": "code",
   "execution_count": 20,
   "id": "86a63a11-9336-4c71-ac74-41af1d5d6130",
   "metadata": {},
   "outputs": [
    {
     "name": "stdout",
     "output_type": "stream",
     "text": [
      "0     74\n",
      "1    122\n",
      "2    180\n",
      "3    132\n",
      "4    112\n",
      "5     90\n",
      "6     82\n",
      "7    154\n",
      "Name: Age, dtype: int64\n"
     ]
    }
   ],
   "source": [
    "print(ages + ages)"
   ]
  },
  {
   "cell_type": "code",
   "execution_count": 21,
   "id": "23db3406-4592-4238-91f2-20998f284be8",
   "metadata": {},
   "outputs": [
    {
     "name": "stdout",
     "output_type": "stream",
     "text": [
      "0    1369\n",
      "1    3721\n",
      "2    8100\n",
      "3    4356\n",
      "4    3136\n",
      "5    2025\n",
      "6    1681\n",
      "7    5929\n",
      "Name: Age, dtype: int64\n"
     ]
    }
   ],
   "source": [
    "print( ages * ages )"
   ]
  },
  {
   "cell_type": "code",
   "execution_count": 22,
   "id": "77563d90-4481-4933-94e7-b8f42b414d3b",
   "metadata": {},
   "outputs": [
    {
     "name": "stdout",
     "output_type": "stream",
     "text": [
      "0    137\n",
      "1    161\n",
      "2    190\n",
      "3    166\n",
      "4    156\n",
      "5    145\n",
      "6    141\n",
      "7    177\n",
      "Name: Age, dtype: int64\n"
     ]
    }
   ],
   "source": [
    "print( ages + 100 )"
   ]
  },
  {
   "cell_type": "code",
   "execution_count": 23,
   "id": "91e50c23-e295-461c-85a8-1590d56bea01",
   "metadata": {},
   "outputs": [
    {
     "data": {
      "text/plain": [
       "0    38.0\n",
       "1    63.0\n",
       "2     NaN\n",
       "3     NaN\n",
       "4     NaN\n",
       "5     NaN\n",
       "6     NaN\n",
       "7     NaN\n",
       "dtype: float64"
      ]
     },
     "execution_count": 23,
     "metadata": {},
     "output_type": "execute_result"
    }
   ],
   "source": [
    "ages + pd.Series([1,2])"
   ]
  },
  {
   "cell_type": "code",
   "execution_count": 24,
   "id": "aec53457-780f-440b-87da-2543153bdfb7",
   "metadata": {},
   "outputs": [
    {
     "data": {
      "text/plain": [
       "0    1\n",
       "1    2\n",
       "dtype: int64"
      ]
     },
     "execution_count": 24,
     "metadata": {},
     "output_type": "execute_result"
    }
   ],
   "source": [
    "pd.Series([1,2])"
   ]
  },
  {
   "cell_type": "code",
   "execution_count": 25,
   "id": "75a17647-b336-4b4d-b7ba-952d3d659b59",
   "metadata": {},
   "outputs": [
    {
     "data": {
      "text/plain": [
       "0    38\n",
       "1    63\n",
       "2    93\n",
       "3    70\n",
       "4    61\n",
       "5    51\n",
       "6    48\n",
       "7    85\n",
       "dtype: int64"
      ]
     },
     "execution_count": 25,
     "metadata": {},
     "output_type": "execute_result"
    }
   ],
   "source": [
    "ages + pd.Series([1,2,3,4,5,6,7,8])"
   ]
  },
  {
   "cell_type": "code",
   "execution_count": 27,
   "id": "0605be78-95b7-4461-a953-333304609b8b",
   "metadata": {},
   "outputs": [],
   "source": [
    "scientists['Born_dt'] = pd.to_datetime(scientists['Born'], format = '%Y-%m-%d')"
   ]
  },
  {
   "cell_type": "code",
   "execution_count": 28,
   "id": "213f9318-2919-4f84-a0e6-4e92c617725b",
   "metadata": {},
   "outputs": [
    {
     "name": "stdout",
     "output_type": "stream",
     "text": [
      "<class 'pandas.core.frame.DataFrame'>\n",
      "RangeIndex: 8 entries, 0 to 7\n",
      "Data columns (total 6 columns):\n",
      " #   Column      Non-Null Count  Dtype         \n",
      "---  ------      --------------  -----         \n",
      " 0   Name        8 non-null      object        \n",
      " 1   Born        8 non-null      object        \n",
      " 2   Died        8 non-null      object        \n",
      " 3   Age         8 non-null      int64         \n",
      " 4   Occupation  8 non-null      object        \n",
      " 5   Born_dt     8 non-null      datetime64[ns]\n",
      "dtypes: datetime64[ns](1), int64(1), object(4)\n",
      "memory usage: 516.0+ bytes\n"
     ]
    }
   ],
   "source": [
    "scientists.info()"
   ]
  },
  {
   "cell_type": "code",
   "execution_count": null,
   "id": "bd550140-69c0-4ce7-9126-255e2c6c79a9",
   "metadata": {},
   "outputs": [],
   "source": []
  },
  {
   "cell_type": "code",
   "execution_count": null,
   "id": "ec94edd1-adbc-41c2-9649-1463ed2e1cec",
   "metadata": {},
   "outputs": [],
   "source": []
  },
  {
   "cell_type": "code",
   "execution_count": null,
   "id": "59a5bf17-ceb8-49a6-830f-b03bf0f2c85a",
   "metadata": {},
   "outputs": [],
   "source": []
  }
 ],
 "metadata": {
  "kernelspec": {
   "display_name": "Python 3 (ipykernel)",
   "language": "python",
   "name": "python3"
  },
  "language_info": {
   "codemirror_mode": {
    "name": "ipython",
    "version": 3
   },
   "file_extension": ".py",
   "mimetype": "text/x-python",
   "name": "python",
   "nbconvert_exporter": "python",
   "pygments_lexer": "ipython3",
   "version": "3.12.7"
  }
 },
 "nbformat": 4,
 "nbformat_minor": 5
}
